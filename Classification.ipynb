{
 "cells": [
  {
   "cell_type": "code",
   "execution_count": 15,
   "id": "5ee4cc95",
   "metadata": {},
   "outputs": [],
   "source": [
    "import pandas as pd\n",
    "from sklearn.model_selection import train_test_split\n",
    "from sklearn.neighbors import KNeighborsClassifier\n",
    "from sklearn.tree import DecisionTreeClassifier\n",
    "from sklearn.ensemble import RandomForestClassifier\n",
    "from sklearn.metrics import confusion_matrix\n",
    "\n",
    "# File paths\n",
    "edge_histogram_csv_path = 'EdgeHistogram.csv'\n",
    "images_csv_path = 'Images.csv'\n",
    "\n",
    "\n",
    "images_df = pd.read_csv(images_csv_path, skiprows=1, sep=';', header=None, names=['id', 'class'])\n",
    "# Load EdgeHistogram.csv\n",
    "# edge_histogram_df = pd.read_csv(edge_histogram_path, delimiter=';', header=None, skiprows=1)\n",
    "# edge_histogram_df.columns = ['ImageID'] + [f'Feature_{i}' for i in range(1, edge_histogram_df.shape[1])]\n",
    "edge_histogram_df = pd.read_csv(edge_histogram_csv_path, skiprows=1, sep=';', header=None)\n",
    "edge_histogram_df.rename(columns={0: 'id'}, inplace=True)\n",
    "\n",
    "# combined_df = pd.merge(edge_histogram_df, images_df, on='ImageID')\n",
    "merged_df = pd.merge(images_df, edge_histogram_df, on='id')\n"
   ]
  },
  {
   "cell_type": "code",
   "execution_count": 16,
   "id": "c05dfb9e-fa7a-45da-b0e1-bf41aa742a47",
   "metadata": {},
   "outputs": [],
   "source": [
    "# Split data into features and target \n",
    "#removing the id and class in X so that it only contains features\n",
    "X = merged_df.drop(['id', 'class'], axis=1)\n",
    "#y only contains the class names \n",
    "y = merged_df['class']\n",
    "#split data for training and testing \n",
    "X_train, X_test, y_train, y_test = train_test_split(X, y, test_size=0.20, random_state=42)"
   ]
  },
  {
   "cell_type": "code",
   "execution_count": 17,
   "id": "7e162ba9",
   "metadata": {},
   "outputs": [],
   "source": [
    "# Initialize classifiers\n",
    "knn = KNeighborsClassifier()\n",
    "dt = DecisionTreeClassifier()\n",
    "rf = RandomForestClassifier()\n",
    "\n",
    "# Fit models on training data\n",
    "knn.fit(X_train, y_train)\n",
    "dt.fit(X_train, y_train)\n",
    "rf.fit(X_train, y_train)\n",
    "\n",
    "# Make predictions on test data\n",
    "knn_pred = knn.predict(X_test)\n",
    "dt_pred = dt.predict(X_test)\n",
    "rf_pred = rf.predict(X_test)\n",
    "\n",
    "class_labels = sorted(y.unique())\n",
    "\n",
    "# Confusion matrices\n",
    "knn_cm = confusion_matrix(y_test, knn_pred, labels=class_labels)\n",
    "dt_cm = confusion_matrix(y_test, dt_pred, labels=class_labels)\n",
    "rf_cm = confusion_matrix(y_test, rf_pred, labels=class_labels)"
   ]
  },
  {
   "cell_type": "code",
   "execution_count": 27,
   "id": "4555400b-0294-4285-b859-44dc22017bd8",
   "metadata": {},
   "outputs": [],
   "source": [
    "\n",
    "# Convert confusion matrices to DataFrames with class labels\n",
    "def cm_to_df(cm, class_labels):\n",
    "    cm_df = pd.DataFrame(cm, index=class_labels, columns=class_labels)\n",
    "    return cm_df\n",
    "\n",
    "knn_cm_df = cm_to_df(knn_cm, class_labels)\n",
    "dt_cm_df = cm_to_df(dt_cm, class_labels)\n",
    "rf_cm_df = cm_to_df(rf_cm, class_labels)\n",
    "\n",
    "# Save the DataFrames to an Excel file\n",
    "excel_file_path = 'confusion_matrices.xlsx'\n",
    "with pd.ExcelWriter(excel_file_path, engine='xlsxwriter') as writer:\n",
    "    knn_cm_df.to_excel(writer, sheet_name='KNN Confusion Matrix')\n",
    "    dt_cm_df.to_excel(writer, sheet_name='DT Confusion Matrix')\n",
    "    rf_cm_df.to_excel(writer, sheet_name='RF Confusion Matrix')"
   ]
  },
  {
   "cell_type": "code",
   "execution_count": 29,
   "id": "db617eb5-76ef-472b-832f-4b0567cda125",
   "metadata": {},
   "outputs": [],
   "source": [
    "def save_classifier_hyperparameters(classifier_name, test_size, params, file_path):\n",
    "    with open(file_path, 'w') as f:\n",
    "        f.write(f\"Classifiername,{classifier_name}\\n\")\n",
    "        f.write(\"library,sklearn\\n\")\n",
    "        f.write(f\"test_size,{test_size}\\n\")\n",
    "        for param, value in params.items():\n",
    "            f.write(f\"{param},{value}\\n\")\n",
    "\n",
    "# Add leaf_size for KNeighborsClassifier\n",
    "save_classifier_hyperparameters('KNeighborsClassifier', 0.20, \n",
    "                                 {'n_neighbors': 5, 'algorithm': 'auto', 'leaf_size': 30}, \n",
    "                                 'group071_parameters1.csv')\n",
    "\n",
    "# DecisionTreeClassifier hyperparameters\n",
    "save_classifier_hyperparameters('DecisionTreeClassifier', 0.20, \n",
    "                                 {'criterion': 'gini', 'max_depth': 'None'}, \n",
    "                                 'group071_parameters2.csv')\n",
    "\n",
    "# RandomForestClassifier hyperparameters\n",
    "save_classifier_hyperparameters('RandomForestClassifier', 0.20, \n",
    "                                 {'n_estimators': 100, 'criterion': 'gini', 'max_depth': 'None'}, \n",
    "                                 'group071_parameters3.csv')\n",
    "\n"
   ]
  }
 ],
 "metadata": {
  "kernelspec": {
   "display_name": "Python 3 (ipykernel)",
   "language": "python",
   "name": "python3"
  },
  "language_info": {
   "codemirror_mode": {
    "name": "ipython",
    "version": 3
   },
   "file_extension": ".py",
   "mimetype": "text/x-python",
   "name": "python",
   "nbconvert_exporter": "python",
   "pygments_lexer": "ipython3",
   "version": "3.12.0"
  }
 },
 "nbformat": 4,
 "nbformat_minor": 5
}
